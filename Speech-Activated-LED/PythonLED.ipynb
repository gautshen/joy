{
 "cells": [
  {
   "cell_type": "code",
   "execution_count": null,
   "metadata": {},
   "outputs": [
    {
     "name": "stdout",
     "output_type": "stream",
     "text": [
      "Serial Port is /dev/ttyACM2\n",
      "Speak Now\n",
      "Try Again\n",
      "Speak Now\n",
      "switch on white light\n",
      "Speak Now\n",
      "Try Again\n",
      "Speak Now\n",
      "blue light\n",
      "Speak Now\n",
      "red light\n",
      "Speak Now\n",
      "yellow light\n",
      "Speak Now\n",
      "aqualite\n",
      "Speak Now\n",
      "green light\n",
      "Speak Now\n",
      "purple\n",
      "Speak Now\n",
      "white\n",
      "Speak Now\n",
      "switch off\n",
      "Speak Now\n",
      "Try Again\n",
      "Speak Now\n",
      "Try Again\n",
      "Speak Now\n"
     ]
    }
   ],
   "source": [
    "import serial\n",
    "import time\n",
    "import glob\n",
    "\n",
    "serial_port=glob.glob(\"/dev/ttyACM*\")[0]\n",
    "print(\"Serial Port is %s\" %(serial_port))\n",
    "\n",
    "#serial_port = \"/dev/ttyACM2\"\n",
    "ser  = serial.Serial(serial_port, 9600)\n",
    "time.sleep(0.5)\n",
    "#print(ser)\n",
    "\n",
    "import speech_recognition as sr\n",
    "\n",
    "r1 = sr.Recognizer()\n",
    "r2 = sr.Recognizer()\n",
    "\n",
    "while True:\n",
    "    with sr.Microphone() as source:\n",
    "        print(\"Speak Now\")\n",
    "        audio = r1.listen(source)\n",
    "    try:    \n",
    "        txt = r2.recognize_google(audio).lower()\n",
    "        print (txt)\n",
    "        if \"of\" in txt:\n",
    "            ser.write(b'O')\n",
    "        elif \"red\" in txt or \"read\" in txt or \"rate\" in txt:\n",
    "            ser.write(b'R')\n",
    "        elif \"green\" in txt:\n",
    "            ser.write(b'G')\n",
    "        elif \"blue\" in txt:\n",
    "            ser.write(b'B')\n",
    "        elif \"cyan\" in txt or \"aqua\" in txt:\n",
    "            ser.write(b'C')\n",
    "        elif \"purple\" in txt or \"magenta\" in txt:\n",
    "            ser.write(b'M')\n",
    "        elif \"yellow\" in txt:\n",
    "            ser.write(b'Y')\n",
    "        elif \"white\" in txt or \"on\" in txt:\n",
    "            ser.write(b'W')\n",
    "    except sr.UnknownValueError:\n",
    "        print(\"Try Again\")\n",
    "        #ser.write(b'Y')\n",
    "\n",
    "\n",
    "#ser.close()\n"
   ]
  },
  {
   "cell_type": "code",
   "execution_count": null,
   "metadata": {},
   "outputs": [],
   "source": []
  },
  {
   "cell_type": "code",
   "execution_count": null,
   "metadata": {},
   "outputs": [],
   "source": []
  }
 ],
 "metadata": {
  "kernelspec": {
   "display_name": "Python 3",
   "language": "python",
   "name": "python3"
  },
  "language_info": {
   "codemirror_mode": {
    "name": "ipython",
    "version": 3
   },
   "file_extension": ".py",
   "mimetype": "text/x-python",
   "name": "python",
   "nbconvert_exporter": "python",
   "pygments_lexer": "ipython3",
   "version": "3.6.8"
  }
 },
 "nbformat": 4,
 "nbformat_minor": 4
}
